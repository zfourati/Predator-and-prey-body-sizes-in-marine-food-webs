{
 "cells": [
  {
   "cell_type": "code",
   "execution_count": 1,
   "id": "f6c57de3",
   "metadata": {
    "vscode": {
     "languageId": "r"
    }
   },
   "outputs": [
    {
     "ename": "ERROR",
     "evalue": "Error: le chargement du package ou de l'espace de noms a 'echou'e pour 'tidyverse' :\n.onAttach a 'echou'e dans attachNamespace() pour 'tidyverse', d'etails :\n  appel : NULL\n  erreur : le chargement du package ou de l'espace de noms a 'echou'e pour 'ggplot2' in dyn.load(file, DLLpath = DLLpath, ...) :\nunable to load shared object '/opt/miniconda3/envs/r-env/lib/R/library/S7/libs/S7.so':\n  dlopen(/opt/miniconda3/envs/r-env/lib/R/library/S7/libs/S7.so, 0x0006): tried: '/opt/miniconda3/envs/r-env/lib/R/library/S7/libs/S7.so' (mach-o file, but is an incompatible architecture (have 'x86_64', need 'arm64e' or 'arm64')), '/System/Volumes/Preboot/Cryptexes/OS/opt/miniconda3/envs/r-env/lib/R/library/S7/libs/S7.so' (no such file), '/opt/miniconda3/envs/r-env/lib/R/library/S7/libs/S7.so' (mach-o file, but is an incompatible architecture (have 'x86_64', need 'arm64e' or 'arm64'))\n",
     "output_type": "error",
     "traceback": [
      "Error: le chargement du package ou de l'espace de noms a 'echou'e pour 'tidyverse' :\n.onAttach a 'echou'e dans attachNamespace() pour 'tidyverse', d'etails :\n  appel : NULL\n  erreur : le chargement du package ou de l'espace de noms a 'echou'e pour 'ggplot2' in dyn.load(file, DLLpath = DLLpath, ...) :\nunable to load shared object '/opt/miniconda3/envs/r-env/lib/R/library/S7/libs/S7.so':\n  dlopen(/opt/miniconda3/envs/r-env/lib/R/library/S7/libs/S7.so, 0x0006): tried: '/opt/miniconda3/envs/r-env/lib/R/library/S7/libs/S7.so' (mach-o file, but is an incompatible architecture (have 'x86_64', need 'arm64e' or 'arm64')), '/System/Volumes/Preboot/Cryptexes/OS/opt/miniconda3/envs/r-env/lib/R/library/S7/libs/S7.so' (no such file), '/opt/miniconda3/envs/r-env/lib/R/library/S7/libs/S7.so' (mach-o file, but is an incompatible architecture (have 'x86_64', need 'arm64e' or 'arm64'))\nTraceback:\n",
      "1. tryCatch({\n .     attr(package, \"LibPath\") <- which.lib.loc\n .     ns <- loadNamespace(package, lib.loc)\n .     env <- attachNamespace(ns, pos = pos, deps, exclude, include.only)\n . }, error = function(e) {\n .     P <- if (!is.null(cc <- conditionCall(e))) \n .         paste(\" in\", deparse(cc)[1L])\n .     else \"\"\n .     msg <- gettextf(\"package or namespace load failed for %s%s:\\n %s\", \n .         sQuote(package), P, conditionMessage(e))\n .     if (logical.return && !quietly) \n .         message(paste(\"Error:\", msg), domain = NA)\n .     else stop(msg, call. = FALSE, domain = NA)\n . })",
      "2. tryCatchList(expr, classes, parentenv, handlers)",
      "3. tryCatchOne(expr, names, parentenv, handlers[[1L]])",
      "4. value[[3L]](cond)",
      "5. stop(msg, call. = FALSE, domain = NA)",
      "6. .handleSimpleError(function (cnd) \n . {\n .     watcher$capture_plot_and_output()\n .     cnd <- sanitize_call(cnd)\n .     watcher$push(cnd)\n .     switch(on_error, continue = invokeRestart(\"eval_continue\"), \n .         stop = invokeRestart(\"eval_stop\"), error = NULL)\n . }, \"le chargement du package ou de l'espace de noms a 'echou'e pour 'tidyverse' :\\n.onAttach a 'echou'e dans attachNamespace() pour 'tidyverse', d'etails :\\n  appel : NULL\\n  erreur : le chargement du package ou de l'espace de noms a 'echou'e pour 'ggplot2' in dyn.load(file, DLLpath = DLLpath, ...) :\\nunable to load shared object '/opt/miniconda3/envs/r-env/lib/R/library/S7/libs/S7.so':\\n  dlopen(/opt/miniconda3/envs/r-env/lib/R/library/S7/libs/S7.so, 0x0006): tried: '/opt/miniconda3/envs/r-env/lib/R/library/S7/libs/S7.so' (mach-o file, but is an incompatible architecture (have 'x86_64', need 'arm64e' or 'arm64')), '/System/Volumes/Preboot/Cryptexes/OS/opt/miniconda3/envs/r-env/lib/R/library/S7/libs/S7.so' (no such file), '/opt/miniconda3/envs/r-env/lib/R/library/S7/libs/S7.so' (mach-o file, but is an incompatible architecture (have 'x86_64', need 'arm64e' or 'arm64'))\", \n .     base::quote(NULL))"
     ]
    }
   ],
   "source": [
    "library(tidyverse)"
   ]
  },
  {
   "cell_type": "markdown",
   "id": "528d5acf",
   "metadata": {},
   "source": [
    "# Data cleaning"
   ]
  },
  {
   "cell_type": "code",
   "execution_count": 21,
   "id": "ac128fa2",
   "metadata": {
    "vscode": {
     "languageId": "r"
    }
   },
   "outputs": [
    {
     "name": "stderr",
     "output_type": "stream",
     "text": [
      "Warning message in scan(file = file, what = what, sep = sep, quote = quote, dec = dec, :\n",
      "\"entr'ee incorrecte trouv'ee dans la connexion en entr'ee 'Predator_and_prey_body_sizes_in_marine_food_webs.csv'\"\n"
     ]
    },
    {
     "data": {
      "text/html": [
       "<table class=\"dataframe\">\n",
       "<caption>A data.frame: 6 x 22</caption>\n",
       "<thead>\n",
       "\t<tr><th></th><th scope=col>X.Record_number</th><th scope=col>Individual_ID</th><th scope=col>Predator</th><th scope=col>Predator._taxon</th><th scope=col>Predator_lifestage</th><th scope=col>Type_of_feeding_interaction</th><th scope=col>Standardised.predator.length</th><th scope=col>SI.predator.mass</th><th scope=col>Diet.coverage</th><th scope=col>Prey</th><th scope=col>...</th><th scope=col>SI.prey.mass</th><th scope=col>Geographic.location</th><th scope=col>Latitude</th><th scope=col>Longitude</th><th scope=col>Depth</th><th scope=col>Mean.annual.temp</th><th scope=col>SD.annual.temp</th><th scope=col>Mean.PP</th><th scope=col>SD.PP</th><th scope=col>Specific.habitat</th></tr>\n",
       "\t<tr><th></th><th scope=col>&lt;chr&gt;</th><th scope=col>&lt;int&gt;</th><th scope=col>&lt;chr&gt;</th><th scope=col>&lt;chr&gt;</th><th scope=col>&lt;chr&gt;</th><th scope=col>&lt;chr&gt;</th><th scope=col>&lt;dbl&gt;</th><th scope=col>&lt;dbl&gt;</th><th scope=col>&lt;chr&gt;</th><th scope=col>&lt;chr&gt;</th><th scope=col>...</th><th scope=col>&lt;dbl&gt;</th><th scope=col>&lt;chr&gt;</th><th scope=col>&lt;chr&gt;</th><th scope=col>&lt;chr&gt;</th><th scope=col>&lt;int&gt;</th><th scope=col>&lt;dbl&gt;</th><th scope=col>&lt;dbl&gt;</th><th scope=col>&lt;int&gt;</th><th scope=col>&lt;int&gt;</th><th scope=col>&lt;chr&gt;</th></tr>\n",
       "</thead>\n",
       "<tbody>\n",
       "\t<tr><th scope=row>1</th><td>\"1</td><td>1</td><td>Rhizoprionodon terraenovae</td><td>ectotherm vertebrate</td><td>adult</td><td>predacious/piscivorous</td><td> 93.990</td><td>1539.900</td><td>all</td><td>teleosts/molluscs/crustaceans</td><td>...</td><td>14.2740</td><td>\"\"Apalachicola Bay\",\" Florida\"\"</td><td>29\"\"40'N</td><td>85\"\"10'W</td><td>30</td><td>24.1</td><td>4.2</td><td>866</td><td>214</td><td>Coastal Bay</td></tr>\n",
       "\t<tr><th scope=row>2</th><td>\"2</td><td>2</td><td>Rhizoprionodon terraenovae</td><td>ectotherm vertebrate</td><td>adult</td><td>predacious/piscivorous</td><td> 95.195</td><td>1597.800</td><td>all</td><td>teleosts/molluscs/crustaceans</td><td>...</td><td> 6.0213</td><td>\"\"Apalachicola Bay\",\" Florida\"\"</td><td>29\"\"40'N</td><td>85\"\"10'W</td><td>30</td><td>24.1</td><td>4.2</td><td>866</td><td>214</td><td>Coastal Bay</td></tr>\n",
       "\t<tr><th scope=row>3</th><td>\"3</td><td>3</td><td>Rhizoprionodon terraenovae</td><td>ectotherm vertebrate</td><td>adult</td><td>predacious/piscivorous</td><td>100.020</td><td>1843.600</td><td>all</td><td>teleosts/molluscs/crustaceans</td><td>...</td><td>11.8930</td><td>\"\"Apalachicola Bay\",\" Florida\"\"</td><td>29\"\"nN  </td><td>85\"\"10'W</td><td>30</td><td>24.1</td><td>4.2</td><td>866</td><td>214</td><td>Coastal Bay</td></tr>\n",
       "\t<tr><th scope=row>4</th><td>\"4</td><td>4</td><td>Rhizoprionodon terraenovae</td><td>ectotherm vertebrate</td><td>adult</td><td>predacious/piscivorous</td><td> 34.945</td><td>  87.631</td><td>all</td><td>teleosts/molluscs/crustaceans</td><td>...</td><td> 8.1220</td><td>\"\"Apalachicola Bay\",\" Florida\"\"</td><td>29\"\"40'N</td><td>85\"\"10'W</td><td>30</td><td>24.1</td><td>4.2</td><td>866</td><td>214</td><td>Coastal Bay</td></tr>\n",
       "\t<tr><th scope=row>5</th><td>\"5</td><td>5</td><td>Rhizoprionodon terraenovae</td><td>ectotherm vertebrate</td><td>adult</td><td>predacious/piscivorous</td><td> 31.330</td><td>  63.866</td><td>all</td><td>teleosts/molluscs/crustaceans</td><td>...</td><td> 6.5623</td><td>\"\"Apalachicola Bay\",\" Florida\"\"</td><td>29\"\"40'N</td><td>85\"\"10'W</td><td>30</td><td>24.1</td><td>4.2</td><td>866</td><td>214</td><td>Coastal Bay</td></tr>\n",
       "\t<tr><th scope=row>6</th><td>\"6</td><td>6</td><td>Rhizoprionodon terraenovae</td><td>ectotherm vertebrate</td><td>adult</td><td>predacious/piscivorous</td><td> 33.740</td><td>  79.161</td><td>all</td><td>teleosts/molluscs/crustaceans</td><td>...</td><td> 5.4065</td><td>\"\"Apalachicola Bay\",\" Florida\"\"</td><td>29\"\"40'N</td><td>85\"\"10'W</td><td>30</td><td>24.1</td><td>4.2</td><td>866</td><td>214</td><td>Coastal Bay</td></tr>\n",
       "</tbody>\n",
       "</table>\n"
      ],
      "text/latex": [
       "A data.frame: 6 x 22\n",
       "\\begin{tabular}{r|lllllllllllllllllllll}\n",
       "  & X.Record\\_number & Individual\\_ID & Predator & Predator.\\_taxon & Predator\\_lifestage & Type\\_of\\_feeding\\_interaction & Standardised.predator.length & SI.predator.mass & Diet.coverage & Prey & ... & SI.prey.mass & Geographic.location & Latitude & Longitude & Depth & Mean.annual.temp & SD.annual.temp & Mean.PP & SD.PP & Specific.habitat\\\\\n",
       "  & <chr> & <int> & <chr> & <chr> & <chr> & <chr> & <dbl> & <dbl> & <chr> & <chr> & ... & <dbl> & <chr> & <chr> & <chr> & <int> & <dbl> & <dbl> & <int> & <int> & <chr>\\\\\n",
       "\\hline\n",
       "\t1 & \"1 & 1 & Rhizoprionodon terraenovae & ectotherm vertebrate & adult & predacious/piscivorous &  93.990 & 1539.900 & all & teleosts/molluscs/crustaceans & ... & 14.2740 & \"\"Apalachicola Bay\",\" Florida\"\" & 29\"\"40'N & 85\"\"10'W & 30 & 24.1 & 4.2 & 866 & 214 & Coastal Bay\\\\\n",
       "\t2 & \"2 & 2 & Rhizoprionodon terraenovae & ectotherm vertebrate & adult & predacious/piscivorous &  95.195 & 1597.800 & all & teleosts/molluscs/crustaceans & ... &  6.0213 & \"\"Apalachicola Bay\",\" Florida\"\" & 29\"\"40'N & 85\"\"10'W & 30 & 24.1 & 4.2 & 866 & 214 & Coastal Bay\\\\\n",
       "\t3 & \"3 & 3 & Rhizoprionodon terraenovae & ectotherm vertebrate & adult & predacious/piscivorous & 100.020 & 1843.600 & all & teleosts/molluscs/crustaceans & ... & 11.8930 & \"\"Apalachicola Bay\",\" Florida\"\" & 29\"\"nN   & 85\"\"10'W & 30 & 24.1 & 4.2 & 866 & 214 & Coastal Bay\\\\\n",
       "\t4 & \"4 & 4 & Rhizoprionodon terraenovae & ectotherm vertebrate & adult & predacious/piscivorous &  34.945 &   87.631 & all & teleosts/molluscs/crustaceans & ... &  8.1220 & \"\"Apalachicola Bay\",\" Florida\"\" & 29\"\"40'N & 85\"\"10'W & 30 & 24.1 & 4.2 & 866 & 214 & Coastal Bay\\\\\n",
       "\t5 & \"5 & 5 & Rhizoprionodon terraenovae & ectotherm vertebrate & adult & predacious/piscivorous &  31.330 &   63.866 & all & teleosts/molluscs/crustaceans & ... &  6.5623 & \"\"Apalachicola Bay\",\" Florida\"\" & 29\"\"40'N & 85\"\"10'W & 30 & 24.1 & 4.2 & 866 & 214 & Coastal Bay\\\\\n",
       "\t6 & \"6 & 6 & Rhizoprionodon terraenovae & ectotherm vertebrate & adult & predacious/piscivorous &  33.740 &   79.161 & all & teleosts/molluscs/crustaceans & ... &  5.4065 & \"\"Apalachicola Bay\",\" Florida\"\" & 29\"\"40'N & 85\"\"10'W & 30 & 24.1 & 4.2 & 866 & 214 & Coastal Bay\\\\\n",
       "\\end{tabular}\n"
      ],
      "text/markdown": [
       "\n",
       "A data.frame: 6 x 22\n",
       "\n",
       "| <!--/--> | X.Record_number &lt;chr&gt; | Individual_ID &lt;int&gt; | Predator &lt;chr&gt; | Predator._taxon &lt;chr&gt; | Predator_lifestage &lt;chr&gt; | Type_of_feeding_interaction &lt;chr&gt; | Standardised.predator.length &lt;dbl&gt; | SI.predator.mass &lt;dbl&gt; | Diet.coverage &lt;chr&gt; | Prey &lt;chr&gt; | ... ... | SI.prey.mass &lt;dbl&gt; | Geographic.location &lt;chr&gt; | Latitude &lt;chr&gt; | Longitude &lt;chr&gt; | Depth &lt;int&gt; | Mean.annual.temp &lt;dbl&gt; | SD.annual.temp &lt;dbl&gt; | Mean.PP &lt;int&gt; | SD.PP &lt;int&gt; | Specific.habitat &lt;chr&gt; |\n",
       "|---|---|---|---|---|---|---|---|---|---|---|---|---|---|---|---|---|---|---|---|---|---|\n",
       "| 1 | \"1 | 1 | Rhizoprionodon terraenovae | ectotherm vertebrate | adult | predacious/piscivorous |  93.990 | 1539.900 | all | teleosts/molluscs/crustaceans | ... | 14.2740 | \"\"Apalachicola Bay\",\" Florida\"\" | 29\"\"40'N | 85\"\"10'W | 30 | 24.1 | 4.2 | 866 | 214 | Coastal Bay |\n",
       "| 2 | \"2 | 2 | Rhizoprionodon terraenovae | ectotherm vertebrate | adult | predacious/piscivorous |  95.195 | 1597.800 | all | teleosts/molluscs/crustaceans | ... |  6.0213 | \"\"Apalachicola Bay\",\" Florida\"\" | 29\"\"40'N | 85\"\"10'W | 30 | 24.1 | 4.2 | 866 | 214 | Coastal Bay |\n",
       "| 3 | \"3 | 3 | Rhizoprionodon terraenovae | ectotherm vertebrate | adult | predacious/piscivorous | 100.020 | 1843.600 | all | teleosts/molluscs/crustaceans | ... | 11.8930 | \"\"Apalachicola Bay\",\" Florida\"\" | 29\"\"nN   | 85\"\"10'W | 30 | 24.1 | 4.2 | 866 | 214 | Coastal Bay |\n",
       "| 4 | \"4 | 4 | Rhizoprionodon terraenovae | ectotherm vertebrate | adult | predacious/piscivorous |  34.945 |   87.631 | all | teleosts/molluscs/crustaceans | ... |  8.1220 | \"\"Apalachicola Bay\",\" Florida\"\" | 29\"\"40'N | 85\"\"10'W | 30 | 24.1 | 4.2 | 866 | 214 | Coastal Bay |\n",
       "| 5 | \"5 | 5 | Rhizoprionodon terraenovae | ectotherm vertebrate | adult | predacious/piscivorous |  31.330 |   63.866 | all | teleosts/molluscs/crustaceans | ... |  6.5623 | \"\"Apalachicola Bay\",\" Florida\"\" | 29\"\"40'N | 85\"\"10'W | 30 | 24.1 | 4.2 | 866 | 214 | Coastal Bay |\n",
       "| 6 | \"6 | 6 | Rhizoprionodon terraenovae | ectotherm vertebrate | adult | predacious/piscivorous |  33.740 |   79.161 | all | teleosts/molluscs/crustaceans | ... |  5.4065 | \"\"Apalachicola Bay\",\" Florida\"\" | 29\"\"40'N | 85\"\"10'W | 30 | 24.1 | 4.2 | 866 | 214 | Coastal Bay |\n",
       "\n"
      ],
      "text/plain": [
       "  X.Record_number Individual_ID Predator                   Predator._taxon     \n",
       "1 \"1              1             Rhizoprionodon terraenovae ectotherm vertebrate\n",
       "2 \"2              2             Rhizoprionodon terraenovae ectotherm vertebrate\n",
       "3 \"3              3             Rhizoprionodon terraenovae ectotherm vertebrate\n",
       "4 \"4              4             Rhizoprionodon terraenovae ectotherm vertebrate\n",
       "5 \"5              5             Rhizoprionodon terraenovae ectotherm vertebrate\n",
       "6 \"6              6             Rhizoprionodon terraenovae ectotherm vertebrate\n",
       "  Predator_lifestage Type_of_feeding_interaction Standardised.predator.length\n",
       "1 adult              predacious/piscivorous       93.990                     \n",
       "2 adult              predacious/piscivorous       95.195                     \n",
       "3 adult              predacious/piscivorous      100.020                     \n",
       "4 adult              predacious/piscivorous       34.945                     \n",
       "5 adult              predacious/piscivorous       31.330                     \n",
       "6 adult              predacious/piscivorous       33.740                     \n",
       "  SI.predator.mass Diet.coverage Prey                          ... SI.prey.mass\n",
       "1 1539.900         all           teleosts/molluscs/crustaceans ... 14.2740     \n",
       "2 1597.800         all           teleosts/molluscs/crustaceans ...  6.0213     \n",
       "3 1843.600         all           teleosts/molluscs/crustaceans ... 11.8930     \n",
       "4   87.631         all           teleosts/molluscs/crustaceans ...  8.1220     \n",
       "5   63.866         all           teleosts/molluscs/crustaceans ...  6.5623     \n",
       "6   79.161         all           teleosts/molluscs/crustaceans ...  5.4065     \n",
       "  Geographic.location             Latitude Longitude Depth Mean.annual.temp\n",
       "1 \"\"Apalachicola Bay\",\" Florida\"\" 29\"\"40'N 85\"\"10'W  30    24.1            \n",
       "2 \"\"Apalachicola Bay\",\" Florida\"\" 29\"\"40'N 85\"\"10'W  30    24.1            \n",
       "3 \"\"Apalachicola Bay\",\" Florida\"\" 29\"\"nN   85\"\"10'W  30    24.1            \n",
       "4 \"\"Apalachicola Bay\",\" Florida\"\" 29\"\"40'N 85\"\"10'W  30    24.1            \n",
       "5 \"\"Apalachicola Bay\",\" Florida\"\" 29\"\"40'N 85\"\"10'W  30    24.1            \n",
       "6 \"\"Apalachicola Bay\",\" Florida\"\" 29\"\"40'N 85\"\"10'W  30    24.1            \n",
       "  SD.annual.temp Mean.PP SD.PP Specific.habitat\n",
       "1 4.2            866     214   Coastal Bay     \n",
       "2 4.2            866     214   Coastal Bay     \n",
       "3 4.2            866     214   Coastal Bay     \n",
       "4 4.2            866     214   Coastal Bay     \n",
       "5 4.2            866     214   Coastal Bay     \n",
       "6 4.2            866     214   Coastal Bay     "
      ]
     },
     "metadata": {},
     "output_type": "display_data"
    },
    {
     "data": {
      "text/html": [
       "<style>\n",
       ".list-inline {list-style: none; margin:0; padding: 0}\n",
       ".list-inline>li {display: inline-block}\n",
       ".list-inline>li:not(:last-child)::after {content: \"\\00b7\"; padding: 0 .5ex}\n",
       "</style>\n",
       "<ol class=list-inline><li>'X.Record_number'</li><li>'Individual_ID'</li><li>'Predator'</li><li>'Predator._taxon'</li><li>'Predator_lifestage'</li><li>'Type_of_feeding_interaction'</li><li>'Standardised.predator.length'</li><li>'SI.predator.mass'</li><li>'Diet.coverage'</li><li>'Prey'</li><li>'Prey.taxon'</li><li>'SI.prey.length'</li><li>'SI.prey.mass'</li><li>'Geographic.location'</li><li>'Latitude'</li><li>'Longitude'</li><li>'Depth'</li><li>'Mean.annual.temp'</li><li>'SD.annual.temp'</li><li>'Mean.PP'</li><li>'SD.PP'</li><li>'Specific.habitat'</li></ol>\n"
      ],
      "text/latex": [
       "\\begin{enumerate*}\n",
       "\\item 'X.Record\\_number'\n",
       "\\item 'Individual\\_ID'\n",
       "\\item 'Predator'\n",
       "\\item 'Predator.\\_taxon'\n",
       "\\item 'Predator\\_lifestage'\n",
       "\\item 'Type\\_of\\_feeding\\_interaction'\n",
       "\\item 'Standardised.predator.length'\n",
       "\\item 'SI.predator.mass'\n",
       "\\item 'Diet.coverage'\n",
       "\\item 'Prey'\n",
       "\\item 'Prey.taxon'\n",
       "\\item 'SI.prey.length'\n",
       "\\item 'SI.prey.mass'\n",
       "\\item 'Geographic.location'\n",
       "\\item 'Latitude'\n",
       "\\item 'Longitude'\n",
       "\\item 'Depth'\n",
       "\\item 'Mean.annual.temp'\n",
       "\\item 'SD.annual.temp'\n",
       "\\item 'Mean.PP'\n",
       "\\item 'SD.PP'\n",
       "\\item 'Specific.habitat'\n",
       "\\end{enumerate*}\n"
      ],
      "text/markdown": [
       "1. 'X.Record_number'\n",
       "2. 'Individual_ID'\n",
       "3. 'Predator'\n",
       "4. 'Predator._taxon'\n",
       "5. 'Predator_lifestage'\n",
       "6. 'Type_of_feeding_interaction'\n",
       "7. 'Standardised.predator.length'\n",
       "8. 'SI.predator.mass'\n",
       "9. 'Diet.coverage'\n",
       "10. 'Prey'\n",
       "11. 'Prey.taxon'\n",
       "12. 'SI.prey.length'\n",
       "13. 'SI.prey.mass'\n",
       "14. 'Geographic.location'\n",
       "15. 'Latitude'\n",
       "16. 'Longitude'\n",
       "17. 'Depth'\n",
       "18. 'Mean.annual.temp'\n",
       "19. 'SD.annual.temp'\n",
       "20. 'Mean.PP'\n",
       "21. 'SD.PP'\n",
       "22. 'Specific.habitat'\n",
       "\n",
       "\n"
      ],
      "text/plain": [
       " [1] \"X.Record_number\"              \"Individual_ID\"               \n",
       " [3] \"Predator\"                     \"Predator._taxon\"             \n",
       " [5] \"Predator_lifestage\"           \"Type_of_feeding_interaction\" \n",
       " [7] \"Standardised.predator.length\" \"SI.predator.mass\"            \n",
       " [9] \"Diet.coverage\"                \"Prey\"                        \n",
       "[11] \"Prey.taxon\"                   \"SI.prey.length\"              \n",
       "[13] \"SI.prey.mass\"                 \"Geographic.location\"         \n",
       "[15] \"Latitude\"                     \"Longitude\"                   \n",
       "[17] \"Depth\"                        \"Mean.annual.temp\"            \n",
       "[19] \"SD.annual.temp\"               \"Mean.PP\"                     \n",
       "[21] \"SD.PP\"                        \"Specific.habitat\"            "
      ]
     },
     "metadata": {},
     "output_type": "display_data"
    }
   ],
   "source": [
    "data_raw <- read.csv(\n",
    "  \"Predator_and_prey_body_sizes_in_marine_food_webs.csv\",\n",
    "  header = TRUE,\n",
    "  sep = \"\\t\",\n",
    "  quote = \"\",\n",
    "  check.names = TRUE,\n",
    "  strip.white = TRUE,\n",
    "  fileEncoding = \"latin1\"\n",
    ")\n",
    "\n",
    "cols_to_keep <- c(\"X.Record_number\", \"Individual_ID\", \"Predator\",\n",
    "                  \"Predator._taxon\", \"Predator_lifestage\",\n",
    "                  \"Type_of_feeding_interaction\", \"Standardised.predator.length\",\n",
    "                  \"SI.predator.mass\", \"Diet.coverage\",\n",
    "                  \"Prey\", \"Prey.taxon\", \"SI.prey.length\", \"SI.prey.mass\",\n",
    "                  \"Geographic.location\", \"Latitude\", \"Longitude\",\n",
    "                  \"Depth\", \"Mean.annual.temp\", \"SD.annual.temp\",\n",
    "                  \"Mean.PP\", \"SD.PP\", \"Specific.habitat\")\n",
    "\n",
    "data <- data_raw[, cols_to_keep, drop = FALSE]\n",
    "\n",
    "head(data)\n",
    "names(data)"
   ]
  },
  {
   "cell_type": "markdown",
   "id": "4430247f",
   "metadata": {},
   "source": [
    "# Test visualize data\n"
   ]
  },
  {
   "cell_type": "code",
   "execution_count": 4,
   "id": "f643b60c",
   "metadata": {
    "vscode": {
     "languageId": "r"
    }
   },
   "outputs": [
    {
     "name": "stderr",
     "output_type": "stream",
     "text": [
      "installation des d'ependances 'S7', 'ggplot2'\n",
      "\n",
      "\n",
      "Warning message in install.packages(\"tidyverse\"):\n",
      "\"l'installation du package 'S7' a eu un statut de sortie non nul\"\n",
      "Warning message in install.packages(\"tidyverse\"):\n",
      "\"l'installation du package 'S7' a eu un statut de sortie non nul\"\n",
      "Warning message in install.packages(\"tidyverse\"):\n",
      "\"l'installation du package 'ggplot2' a eu un statut de sortie non nul\"\n",
      "Warning message in install.packages(\"tidyverse\"):\n",
      "\"l'installation du package 'ggplot2' a eu un statut de sortie non nul\"\n",
      "Warning message in install.packages(\"tidyverse\"):\n",
      "\"l'installation du package 'tidyverse' a eu un statut de sortie non nul\"\n",
      "Mise `a jour de la liste HTML des packages dans '.Library'\n",
      "\n",
      "Making 'packages.html' ...\n",
      "Warning message in install.packages(\"tidyverse\"):\n",
      "\"l'installation du package 'tidyverse' a eu un statut de sortie non nul\"\n",
      "Mise `a jour de la liste HTML des packages dans '.Library'\n",
      "\n",
      "Making 'packages.html' ...\n",
      " termin'e\n",
      "\n",
      " termin'e\n",
      "\n",
      "installation de la d'ependance 'S7'\n",
      "\n",
      "\n",
      "installation de la d'ependance 'S7'\n",
      "\n",
      "\n",
      "Warning message in install.packages(\"ggplot2\"):\n",
      "\"l'installation du package 'S7' a eu un statut de sortie non nul\"\n",
      "Warning message in install.packages(\"ggplot2\"):\n",
      "\"l'installation du package 'S7' a eu un statut de sortie non nul\"\n",
      "Warning message in install.packages(\"ggplot2\"):\n",
      "\"l'installation du package 'ggplot2' a eu un statut de sortie non nul\"\n",
      "Mise `a jour de la liste HTML des packages dans '.Library'\n",
      "\n",
      "Making 'packages.html' ...\n",
      "Warning message in install.packages(\"ggplot2\"):\n",
      "\"l'installation du package 'ggplot2' a eu un statut de sortie non nul\"\n",
      "Mise `a jour de la liste HTML des packages dans '.Library'\n",
      "\n",
      "Making 'packages.html' ...\n",
      " termin'e\n",
      "\n",
      " termin'e\n",
      "\n",
      "Warning message in install.packages(\"reshape2\"):\n",
      "\"l'installation du package 'reshape2' a eu un statut de sortie non nul\"\n",
      "Mise `a jour de la liste HTML des packages dans '.Library'\n",
      "\n",
      "Making 'packages.html' ...\n",
      "Warning message in install.packages(\"reshape2\"):\n",
      "\"l'installation du package 'reshape2' a eu un statut de sortie non nul\"\n",
      "Mise `a jour de la liste HTML des packages dans '.Library'\n",
      "\n",
      "Making 'packages.html' ...\n",
      " termin'e\n",
      "\n",
      " termin'e\n",
      "\n"
     ]
    }
   ],
   "source": [
    "install.packages(\"tidyverse\")   \n",
    "install.packages(\"ggplot2\")\n",
    "install.packages(\"reshape2\")"
   ]
  },
  {
   "cell_type": "markdown",
   "id": "86624f0f",
   "metadata": {},
   "source": [
    "### Size predator vs size prey"
   ]
  },
  {
   "cell_type": "code",
   "execution_count": 25,
   "id": "7c69275c",
   "metadata": {
    "vscode": {
     "languageId": "r"
    }
   },
   "outputs": [
    {
     "data": {
      "image/png": "[encoded data removed]",
      "text/plain": [
       "plot without title"
      ]
     },
     "metadata": {
      "image/png": {
       "height": 420,
       "width": 420
      }
     },
     "output_type": "display_data"
    }
   ],
   "source": [
    "plot(\n",
    "  x = data$Standardised.predator.length,\n",
    "  y = data$SI.prey.length,\n",
    "  xlab = \"Taille predateur SI\",\n",
    "  ylab = \"Taille proie SI\",\n",
    "  col = \"blue\", pch = 16,\n",
    "  xlim = range(data$Standardised.predator.length, na.rm = TRUE),\n",
    "  ylim = range(data$SI.prey.length, na.rm = TRUE)\n",
    ")\n"
   ]
  },
  {
   "cell_type": "code",
   "execution_count": null,
   "id": "ffc7795c",
   "metadata": {
    "vscode": {
     "languageId": "r"
    }
   },
   "outputs": [],
   "source": []
  }
 ],
 "metadata": {
  "kernelspec": {
   "display_name": "R (r-env)",
   "language": "R",
   "name": "r-env"
  },
  "language_info": {
   "codemirror_mode": "r",
   "file_extension": ".r",
   "mimetype": "text/x-r-source",
   "name": "R",
   "pygments_lexer": "r",
   "version": "4.5.1"
  }
 },
 "nbformat": 4,
 "nbformat_minor": 5
}

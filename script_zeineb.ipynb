{
 "cells": [
  {
   "cell_type": "code",
   "execution_count": 2,
   "id": "078183ac",
   "metadata": {
    "vscode": {
     "languageId": "r"
    }
   },
   "outputs": [],
   "source": [
    "library(tidyverse)\n"
   ]
  },
  {
   "cell_type": "markdown",
   "id": "31085257",
   "metadata": {},
   "source": [
    "# Importer les cleaned data"
   ]
  },
  {
   "cell_type": "code",
   "execution_count": 95,
   "id": "7707f6ab",
   "metadata": {
    "vscode": {
     "languageId": "r"
    }
   },
   "outputs": [
    {
     "data": {
      "text/html": [
       "<table class=\"dataframe\">\n",
       "<caption>A data.frame: 6 × 21</caption>\n",
       "<thead>\n",
       "\t<tr><th></th><th scope=col>Individual_ID</th><th scope=col>Predator</th><th scope=col>Predator_taxon</th><th scope=col>Predator_lifestage</th><th scope=col>Type_of_feeding_interaction</th><th scope=col>Standardised_predator_length</th><th scope=col>SI_predator_mass</th><th scope=col>Diet_coverage</th><th scope=col>Prey</th><th scope=col>Prey_taxon</th><th scope=col>⋯</th><th scope=col>SI_prey_mass</th><th scope=col>Geographic_location</th><th scope=col>Latitude</th><th scope=col>Longitude</th><th scope=col>Depth</th><th scope=col>Mean_annual_temp</th><th scope=col>SD_annual_temp</th><th scope=col>Mean_PP</th><th scope=col>SD_PP</th><th scope=col>Specific_habitat</th></tr>\n",
       "\t<tr><th></th><th scope=col>&lt;chr&gt;</th><th scope=col>&lt;chr&gt;</th><th scope=col>&lt;chr&gt;</th><th scope=col>&lt;chr&gt;</th><th scope=col>&lt;chr&gt;</th><th scope=col>&lt;dbl&gt;</th><th scope=col>&lt;dbl&gt;</th><th scope=col>&lt;chr&gt;</th><th scope=col>&lt;chr&gt;</th><th scope=col>&lt;chr&gt;</th><th scope=col>⋯</th><th scope=col>&lt;dbl&gt;</th><th scope=col>&lt;chr&gt;</th><th scope=col>&lt;chr&gt;</th><th scope=col>&lt;chr&gt;</th><th scope=col>&lt;int&gt;</th><th scope=col>&lt;dbl&gt;</th><th scope=col>&lt;dbl&gt;</th><th scope=col>&lt;int&gt;</th><th scope=col>&lt;dbl&gt;</th><th scope=col>&lt;chr&gt;</th></tr>\n",
       "</thead>\n",
       "<tbody>\n",
       "\t<tr><th scope=row>1</th><td>1</td><td>Rhizoprionodon terraenovae</td><td>ectotherm vertebrate</td><td>adult</td><td>predacious/piscivorous</td><td> 93.990</td><td>1539.900</td><td>all</td><td>teleosts/molluscs/crustaceans</td><td>mixed</td><td>⋯</td><td>14.2740</td><td>\"\"Apalachicola Bay\",\" Florida\"\"</td><td>29\"\"40'N</td><td>85\"\"10'W</td><td>30</td><td>24.1</td><td>4.2</td><td>866</td><td>214</td><td>Coastal Bay</td></tr>\n",
       "\t<tr><th scope=row>2</th><td>2</td><td>Rhizoprionodon terraenovae</td><td>ectotherm vertebrate</td><td>adult</td><td>predacious/piscivorous</td><td> 95.195</td><td>1597.800</td><td>all</td><td>teleosts/molluscs/crustaceans</td><td>mixed</td><td>⋯</td><td> 6.0213</td><td>\"\"Apalachicola Bay\",\" Florida\"\"</td><td>29\"\"40'N</td><td>85\"\"10'W</td><td>30</td><td>24.1</td><td>4.2</td><td>866</td><td>214</td><td>Coastal Bay</td></tr>\n",
       "\t<tr><th scope=row>3</th><td>3</td><td>Rhizoprionodon terraenovae</td><td>ectotherm vertebrate</td><td>adult</td><td>predacious/piscivorous</td><td>100.020</td><td>1843.600</td><td>all</td><td>teleosts/molluscs/crustaceans</td><td>mixed</td><td>⋯</td><td>11.8930</td><td>\"\"Apalachicola Bay\",\" Florida\"\"</td><td>29\"\"nN  </td><td>85\"\"10'W</td><td>30</td><td>24.1</td><td>4.2</td><td>866</td><td>214</td><td>Coastal Bay</td></tr>\n",
       "\t<tr><th scope=row>4</th><td>4</td><td>Rhizoprionodon terraenovae</td><td>ectotherm vertebrate</td><td>adult</td><td>predacious/piscivorous</td><td> 34.945</td><td>  87.631</td><td>all</td><td>teleosts/molluscs/crustaceans</td><td>mixed</td><td>⋯</td><td> 8.1220</td><td>\"\"Apalachicola Bay\",\" Florida\"\"</td><td>29\"\"40'N</td><td>85\"\"10'W</td><td>30</td><td>24.1</td><td>4.2</td><td>866</td><td>214</td><td>Coastal Bay</td></tr>\n",
       "\t<tr><th scope=row>5</th><td>5</td><td>Rhizoprionodon terraenovae</td><td>ectotherm vertebrate</td><td>adult</td><td>predacious/piscivorous</td><td> 31.330</td><td>  63.866</td><td>all</td><td>teleosts/molluscs/crustaceans</td><td>mixed</td><td>⋯</td><td> 6.5623</td><td>\"\"Apalachicola Bay\",\" Florida\"\"</td><td>29\"\"40'N</td><td>85\"\"10'W</td><td>30</td><td>24.1</td><td>4.2</td><td>866</td><td>214</td><td>Coastal Bay</td></tr>\n",
       "\t<tr><th scope=row>6</th><td>6</td><td>Rhizoprionodon terraenovae</td><td>ectotherm vertebrate</td><td>adult</td><td>predacious/piscivorous</td><td> 33.740</td><td>  79.161</td><td>all</td><td>teleosts/molluscs/crustaceans</td><td>mixed</td><td>⋯</td><td> 5.4065</td><td>\"\"Apalachicola Bay\",\" Florida\"\"</td><td>29\"\"40'N</td><td>85\"\"10'W</td><td>30</td><td>24.1</td><td>4.2</td><td>866</td><td>214</td><td>Coastal Bay</td></tr>\n",
       "</tbody>\n",
       "</table>\n"
      ],
      "text/latex": [
       "A data.frame: 6 × 21\n",
       "\\begin{tabular}{r|lllllllllllllllllllll}\n",
       "  & Individual\\_ID & Predator & Predator\\_taxon & Predator\\_lifestage & Type\\_of\\_feeding\\_interaction & Standardised\\_predator\\_length & SI\\_predator\\_mass & Diet\\_coverage & Prey & Prey\\_taxon & ⋯ & SI\\_prey\\_mass & Geographic\\_location & Latitude & Longitude & Depth & Mean\\_annual\\_temp & SD\\_annual\\_temp & Mean\\_PP & SD\\_PP & Specific\\_habitat\\\\\n",
       "  & <chr> & <chr> & <chr> & <chr> & <chr> & <dbl> & <dbl> & <chr> & <chr> & <chr> & ⋯ & <dbl> & <chr> & <chr> & <chr> & <int> & <dbl> & <dbl> & <int> & <dbl> & <chr>\\\\\n",
       "\\hline\n",
       "\t1 & 1 & Rhizoprionodon terraenovae & ectotherm vertebrate & adult & predacious/piscivorous &  93.990 & 1539.900 & all & teleosts/molluscs/crustaceans & mixed & ⋯ & 14.2740 & \"\"Apalachicola Bay\",\" Florida\"\" & 29\"\"40'N & 85\"\"10'W & 30 & 24.1 & 4.2 & 866 & 214 & Coastal Bay\\\\\n",
       "\t2 & 2 & Rhizoprionodon terraenovae & ectotherm vertebrate & adult & predacious/piscivorous &  95.195 & 1597.800 & all & teleosts/molluscs/crustaceans & mixed & ⋯ &  6.0213 & \"\"Apalachicola Bay\",\" Florida\"\" & 29\"\"40'N & 85\"\"10'W & 30 & 24.1 & 4.2 & 866 & 214 & Coastal Bay\\\\\n",
       "\t3 & 3 & Rhizoprionodon terraenovae & ectotherm vertebrate & adult & predacious/piscivorous & 100.020 & 1843.600 & all & teleosts/molluscs/crustaceans & mixed & ⋯ & 11.8930 & \"\"Apalachicola Bay\",\" Florida\"\" & 29\"\"nN   & 85\"\"10'W & 30 & 24.1 & 4.2 & 866 & 214 & Coastal Bay\\\\\n",
       "\t4 & 4 & Rhizoprionodon terraenovae & ectotherm vertebrate & adult & predacious/piscivorous &  34.945 &   87.631 & all & teleosts/molluscs/crustaceans & mixed & ⋯ &  8.1220 & \"\"Apalachicola Bay\",\" Florida\"\" & 29\"\"40'N & 85\"\"10'W & 30 & 24.1 & 4.2 & 866 & 214 & Coastal Bay\\\\\n",
       "\t5 & 5 & Rhizoprionodon terraenovae & ectotherm vertebrate & adult & predacious/piscivorous &  31.330 &   63.866 & all & teleosts/molluscs/crustaceans & mixed & ⋯ &  6.5623 & \"\"Apalachicola Bay\",\" Florida\"\" & 29\"\"40'N & 85\"\"10'W & 30 & 24.1 & 4.2 & 866 & 214 & Coastal Bay\\\\\n",
       "\t6 & 6 & Rhizoprionodon terraenovae & ectotherm vertebrate & adult & predacious/piscivorous &  33.740 &   79.161 & all & teleosts/molluscs/crustaceans & mixed & ⋯ &  5.4065 & \"\"Apalachicola Bay\",\" Florida\"\" & 29\"\"40'N & 85\"\"10'W & 30 & 24.1 & 4.2 & 866 & 214 & Coastal Bay\\\\\n",
       "\\end{tabular}\n"
      ],
      "text/markdown": [
       "\n",
       "A data.frame: 6 × 21\n",
       "\n",
       "| <!--/--> | Individual_ID &lt;chr&gt; | Predator &lt;chr&gt; | Predator_taxon &lt;chr&gt; | Predator_lifestage &lt;chr&gt; | Type_of_feeding_interaction &lt;chr&gt; | Standardised_predator_length &lt;dbl&gt; | SI_predator_mass &lt;dbl&gt; | Diet_coverage &lt;chr&gt; | Prey &lt;chr&gt; | Prey_taxon &lt;chr&gt; | ⋯ ⋯ | SI_prey_mass &lt;dbl&gt; | Geographic_location &lt;chr&gt; | Latitude &lt;chr&gt; | Longitude &lt;chr&gt; | Depth &lt;int&gt; | Mean_annual_temp &lt;dbl&gt; | SD_annual_temp &lt;dbl&gt; | Mean_PP &lt;int&gt; | SD_PP &lt;dbl&gt; | Specific_habitat &lt;chr&gt; |\n",
       "|---|---|---|---|---|---|---|---|---|---|---|---|---|---|---|---|---|---|---|---|---|---|\n",
       "| 1 | 1 | Rhizoprionodon terraenovae | ectotherm vertebrate | adult | predacious/piscivorous |  93.990 | 1539.900 | all | teleosts/molluscs/crustaceans | mixed | ⋯ | 14.2740 | \"\"Apalachicola Bay\",\" Florida\"\" | 29\"\"40'N | 85\"\"10'W | 30 | 24.1 | 4.2 | 866 | 214 | Coastal Bay |\n",
       "| 2 | 2 | Rhizoprionodon terraenovae | ectotherm vertebrate | adult | predacious/piscivorous |  95.195 | 1597.800 | all | teleosts/molluscs/crustaceans | mixed | ⋯ |  6.0213 | \"\"Apalachicola Bay\",\" Florida\"\" | 29\"\"40'N | 85\"\"10'W | 30 | 24.1 | 4.2 | 866 | 214 | Coastal Bay |\n",
       "| 3 | 3 | Rhizoprionodon terraenovae | ectotherm vertebrate | adult | predacious/piscivorous | 100.020 | 1843.600 | all | teleosts/molluscs/crustaceans | mixed | ⋯ | 11.8930 | \"\"Apalachicola Bay\",\" Florida\"\" | 29\"\"nN   | 85\"\"10'W | 30 | 24.1 | 4.2 | 866 | 214 | Coastal Bay |\n",
       "| 4 | 4 | Rhizoprionodon terraenovae | ectotherm vertebrate | adult | predacious/piscivorous |  34.945 |   87.631 | all | teleosts/molluscs/crustaceans | mixed | ⋯ |  8.1220 | \"\"Apalachicola Bay\",\" Florida\"\" | 29\"\"40'N | 85\"\"10'W | 30 | 24.1 | 4.2 | 866 | 214 | Coastal Bay |\n",
       "| 5 | 5 | Rhizoprionodon terraenovae | ectotherm vertebrate | adult | predacious/piscivorous |  31.330 |   63.866 | all | teleosts/molluscs/crustaceans | mixed | ⋯ |  6.5623 | \"\"Apalachicola Bay\",\" Florida\"\" | 29\"\"40'N | 85\"\"10'W | 30 | 24.1 | 4.2 | 866 | 214 | Coastal Bay |\n",
       "| 6 | 6 | Rhizoprionodon terraenovae | ectotherm vertebrate | adult | predacious/piscivorous |  33.740 |   79.161 | all | teleosts/molluscs/crustaceans | mixed | ⋯ |  5.4065 | \"\"Apalachicola Bay\",\" Florida\"\" | 29\"\"40'N | 85\"\"10'W | 30 | 24.1 | 4.2 | 866 | 214 | Coastal Bay |\n",
       "\n"
      ],
      "text/plain": [
       "  Individual_ID Predator                   Predator_taxon      \n",
       "1 1             Rhizoprionodon terraenovae ectotherm vertebrate\n",
       "2 2             Rhizoprionodon terraenovae ectotherm vertebrate\n",
       "3 3             Rhizoprionodon terraenovae ectotherm vertebrate\n",
       "4 4             Rhizoprionodon terraenovae ectotherm vertebrate\n",
       "5 5             Rhizoprionodon terraenovae ectotherm vertebrate\n",
       "6 6             Rhizoprionodon terraenovae ectotherm vertebrate\n",
       "  Predator_lifestage Type_of_feeding_interaction Standardised_predator_length\n",
       "1 adult              predacious/piscivorous       93.990                     \n",
       "2 adult              predacious/piscivorous       95.195                     \n",
       "3 adult              predacious/piscivorous      100.020                     \n",
       "4 adult              predacious/piscivorous       34.945                     \n",
       "5 adult              predacious/piscivorous       31.330                     \n",
       "6 adult              predacious/piscivorous       33.740                     \n",
       "  SI_predator_mass Diet_coverage Prey                          Prey_taxon ⋯\n",
       "1 1539.900         all           teleosts/molluscs/crustaceans mixed      ⋯\n",
       "2 1597.800         all           teleosts/molluscs/crustaceans mixed      ⋯\n",
       "3 1843.600         all           teleosts/molluscs/crustaceans mixed      ⋯\n",
       "4   87.631         all           teleosts/molluscs/crustaceans mixed      ⋯\n",
       "5   63.866         all           teleosts/molluscs/crustaceans mixed      ⋯\n",
       "6   79.161         all           teleosts/molluscs/crustaceans mixed      ⋯\n",
       "  SI_prey_mass Geographic_location             Latitude Longitude Depth\n",
       "1 14.2740      \"\"Apalachicola Bay\",\" Florida\"\" 29\"\"40'N 85\"\"10'W  30   \n",
       "2  6.0213      \"\"Apalachicola Bay\",\" Florida\"\" 29\"\"40'N 85\"\"10'W  30   \n",
       "3 11.8930      \"\"Apalachicola Bay\",\" Florida\"\" 29\"\"nN   85\"\"10'W  30   \n",
       "4  8.1220      \"\"Apalachicola Bay\",\" Florida\"\" 29\"\"40'N 85\"\"10'W  30   \n",
       "5  6.5623      \"\"Apalachicola Bay\",\" Florida\"\" 29\"\"40'N 85\"\"10'W  30   \n",
       "6  5.4065      \"\"Apalachicola Bay\",\" Florida\"\" 29\"\"40'N 85\"\"10'W  30   \n",
       "  Mean_annual_temp SD_annual_temp Mean_PP SD_PP Specific_habitat\n",
       "1 24.1             4.2            866     214   Coastal Bay     \n",
       "2 24.1             4.2            866     214   Coastal Bay     \n",
       "3 24.1             4.2            866     214   Coastal Bay     \n",
       "4 24.1             4.2            866     214   Coastal Bay     \n",
       "5 24.1             4.2            866     214   Coastal Bay     \n",
       "6 24.1             4.2            866     214   Coastal Bay     "
      ]
     },
     "metadata": {},
     "output_type": "display_data"
    },
    {
     "name": "stderr",
     "output_type": "stream",
     "text": [
      "The following objects are masked from data_clean (pos = 3):\n",
      "\n",
      "    Depth, Diet_coverage, Geographic_location, Individual_ID, Latitude,\n",
      "    Longitude, Mean_annual_temp, Mean_PP, Predator, Predator_lifestage,\n",
      "    Predator_taxon, Prey, Prey_taxon, SD_annual_temp, SD_PP,\n",
      "    SI_predator_mass, SI_prey_length, SI_prey_mass, Specific_habitat,\n",
      "    Standardised_predator_length, Type_of_feeding_interaction\n",
      "\n",
      "\n"
     ]
    }
   ],
   "source": [
    "data_clean <- read.csv(\n",
    "  \"data_cleaned.csv\",\n",
    "  header = TRUE,\n",
    "  sep = \",\",\n",
    "  quote = \"\\\"\", \n",
    "  stringsAsFactors = FALSE)\n",
    "\n",
    "\n",
    "\n",
    "head(data_clean)\n",
    "attach(data_clean)"
   ]
  },
  {
   "cell_type": "markdown",
   "id": "9239f5ca",
   "metadata": {},
   "source": [
    "# Log transform of predator and prey length and mass \n",
    "predator and prey length and mass are log transformed and rounded to 1 number after ','\n",
    "The histogram shows that rounding to 1 digit doesn't change the distribution too much."
   ]
  },
  {
   "cell_type": "code",
   "execution_count": 96,
   "id": "fca0670e",
   "metadata": {
    "vscode": {
     "languageId": "r"
    }
   },
   "outputs": [
    {
     "data": {
      "image/png": "[encoded data removed]",
      "text/plain": [
       "Plot with title \"Histogram of data_clean$log_prey_mass\""
      ]
     },
     "metadata": {
      "image/png": {
       "height": 840,
       "width": 840
      }
     },
     "output_type": "display_data"
    }
   ],
   "source": [
    "data_clean$log_predator_mass <- round(log(data_clean$SI_predator_mass),digits = 1)\n",
    "data_clean$log_predator_length <- round(log(data_clean$Standardised_predator_length),digits = 1)\n",
    "data_clean$log_prey_mass <- round(log(data_clean$SI_prey_mass),digits = 1)\n",
    "data_clean$log_prey_length <- round(log(data_clean$SI_prey_length),digits = 1)\n",
    "\n",
    "options(repr.plot.width = 14, repr.plot.height = 14)\n",
    "\n",
    "par(mfrow = c(4, 2))\n",
    "#predator mass\n",
    "hist(log(data_clean$SI_predator_mass), xlab=\"log(predator mass)\",\n",
    "         col = \"lightblue\", border=\"white\")\n",
    "hist(data_clean$log_predator_mass, xlab=\"round(log(predator mass))\",\n",
    "         col = \"lightblue\", border=\"white\")\n",
    "\n",
    "#predator length\n",
    "hist(log(data_clean$Standardised_predator_length), xlab=\"log(predator length)\",\n",
    "         col = \"lightblue\", border=\"white\")    \n",
    "hist(data_clean$log_predator_length, xlab=\"round(log(predator length))\",\n",
    "         col = \"lightblue\", border=\"white\") \n",
    "\n",
    "#prey length\n",
    "hist(log(data_clean$SI_prey_length), xlab=\"log(prey length)\",\n",
    "         col = \"lightblue\", border=\"white\")    \n",
    "hist(data_clean$log_prey_length, xlab=\"round(log(prey length))\",\n",
    "         col = \"lightblue\", border=\"white\")    \n",
    "\n",
    "#prey mass\n",
    "hist(log(data_clean$SI_prey_mass), xlab=\"log(prey mass)\",\n",
    "         col = \"lightblue\", border=\"white\")    \n",
    "hist(data_clean$log_prey_mass, xlab=\"round(log(prey mass))\",\n",
    "         col = \"lightblue\", border=\"white\")    \n"
   ]
  },
  {
   "cell_type": "markdown",
   "id": "d37c8510",
   "metadata": {},
   "source": [
    "## Remove non log transformed predator and prey lenght and mass"
   ]
  },
  {
   "cell_type": "code",
   "execution_count": null,
   "id": "422258d9",
   "metadata": {
    "vscode": {
     "languageId": "r"
    }
   },
   "outputs": [],
   "source": [
    "drop <- c(\"Standardised_predator_length\",\"SI_predator_mass\" ,\"SI_prey_length\",\"SI_prey_mass\")\n",
    "data_standardized = data_clean[,!(names(data_clean) %in% drop)]"
   ]
  },
  {
   "cell_type": "markdown",
   "id": "619fb480",
   "metadata": {},
   "source": [
    "# Remove duplicate rows\n"
   ]
  },
  {
   "cell_type": "code",
   "execution_count": 98,
   "id": "baaccf47",
   "metadata": {
    "vscode": {
     "languageId": "r"
    }
   },
   "outputs": [
    {
     "name": "stdout",
     "output_type": "stream",
     "text": [
      "[1] \"Number of duplicate rows removed:\"\n"
     ]
    },
    {
     "data": {
      "text/html": [
       "7263"
      ],
      "text/latex": [
       "7263"
      ],
      "text/markdown": [
       "7263"
      ],
      "text/plain": [
       "[1] 7263"
      ]
     },
     "metadata": {},
     "output_type": "display_data"
    }
   ],
   "source": [
    "library(dplyr)\n",
    "data_unique <- data_standardized %>% distinct()\n",
    "\n",
    "print(\"Number of duplicate rows removed:\")\n",
    "nrow(data_standardized) - nrow(data_unique)"
   ]
  },
  {
   "cell_type": "markdown",
   "id": "33911bec",
   "metadata": {},
   "source": [
    "# Remplacer ID"
   ]
  },
  {
   "cell_type": "code",
   "execution_count": 99,
   "id": "e8e80583",
   "metadata": {
    "vscode": {
     "languageId": "r"
    }
   },
   "outputs": [],
   "source": [
    "# Trouver les lignes avec ID manquant\n",
    "missing_idx <- which(data_unique$Individual_ID == \"n/a\" | is.na(data_unique$Individual_ID))\n",
    "\n",
    "# Convertir la colonne en numérique (si elle est encore de type \"character\")\n",
    "# Les \"n/a\" deviendront NA\n",
    "data_unique$Individual_ID <- suppressWarnings(as.numeric(data_unique$Individual_ID))\n",
    "\n",
    "# Trouver le plus grand ID existant pour continuer la numérotation\n",
    "max_id <- max(data_unique$Individual_ID, na.rm = TRUE)\n",
    "\n",
    "# Créer de nouveaux IDs pour les lignes manquantes\n",
    "new_ids <- seq(from = max_id + 1, length.out = length(missing_idx))\n",
    "\n",
    "# Remplacer les valeurs manquantes\n",
    "data_unique$Individual_ID[missing_idx] <- new_ids\n"
   ]
  },
  {
   "cell_type": "code",
   "execution_count": 102,
   "id": "edb72a3f",
   "metadata": {
    "vscode": {
     "languageId": "r"
    }
   },
   "outputs": [
    {
     "name": "stderr",
     "output_type": "stream",
     "text": [
      "Warning message:\n",
      "\"package 'data.table' was built under R version 4.4.3\"\n",
      "\n",
      "Attaching package: 'data.table'\n",
      "\n",
      "\n",
      "The following objects are masked from 'package:lubridate':\n",
      "\n",
      "    hour, isoweek, mday, minute, month, quarter, second, wday, week,\n",
      "    yday, year\n",
      "\n",
      "\n",
      "The following objects are masked from 'package:dplyr':\n",
      "\n",
      "    between, first, last\n",
      "\n",
      "\n",
      "The following object is masked from 'package:purrr':\n",
      "\n",
      "    transpose\n",
      "\n",
      "\n"
     ]
    }
   ],
   "source": [
    "library(data.table)\n",
    "fwrite(data_unique, \"data_cleaned_2.csv\")"
   ]
  }
 ],
 "metadata": {
  "kernelspec": {
   "display_name": "R",
   "language": "R",
   "name": "ir"
  },
  "language_info": {
   "codemirror_mode": "r",
   "file_extension": ".r",
   "mimetype": "text/x-r-source",
   "name": "R",
   "pygments_lexer": "r",
   "version": "4.4.2"
  }
 },
 "nbformat": 4,
 "nbformat_minor": 5
}

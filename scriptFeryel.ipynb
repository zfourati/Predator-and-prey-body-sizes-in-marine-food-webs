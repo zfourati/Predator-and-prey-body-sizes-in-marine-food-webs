{
 "cells": [
  {
   "cell_type": "code",
   "execution_count": null,
   "id": "a571f8fe-8eeb-4a5a-ba67-a2e6c7329618",
   "metadata": {},
   "outputs": [],
   "source": [
    "1+1"
   ]
  }
 ],
 "metadata": {
  "kernelspec": {
   "display_name": "R",
   "language": "R",
   "name": "ir"
  },
  "language_info": {
   "codemirror_mode": "r",
   "file_extension": ".r",
   "mimetype": "text/x-r-source",
   "name": "R",
   "pygments_lexer": "r",
   "version": "4.5.1"
  }
 },
 "nbformat": 4,
 "nbformat_minor": 5
}
